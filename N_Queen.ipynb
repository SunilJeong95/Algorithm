{
 "cells": [
  {
   "cell_type": "code",
   "execution_count": 48,
   "id": "perfect-gospel",
   "metadata": {},
   "outputs": [],
   "source": [
    "def queen_check(candidate, col):\n",
    "    row = len(candidate)\n",
    "    for n in range(row):\n",
    "        if candidate[n] == col or abs(candidate[n] - col) == row - n:\n",
    "            return False\n",
    "    return True\n",
    "\n",
    "def finding(N, current_row, candidate, final_result):\n",
    "    if current_row == N:\n",
    "        final_result.append(candidate[:])\n",
    "        return \n",
    "    \n",
    "    for col in range(N):\n",
    "        if queen_check(candidate, col):\n",
    "            candidate.append(col)\n",
    "            finding(N, current_row+1, candidate, final_result)\n",
    "            candidate.pop()\n",
    "\n",
    "def n_queen(N):\n",
    "    final_result = []\n",
    "    finding(N, 0, [], final_result)\n",
    "    desc(final_result)\n",
    "    return final_result\n",
    "\n",
    "def desc(result):\n",
    "    for N in result:\n",
    "        for n in N:\n",
    "            for col in range(len(N)):\n",
    "                if col == n:\n",
    "                    print(\"1 \", end='')\n",
    "                else:\n",
    "                    print(\"0 \", end='')\n",
    "            print('')\n",
    "        print('')\n",
    "            "
   ]
  },
  {
   "cell_type": "code",
   "execution_count": 51,
   "id": "bridal-penetration",
   "metadata": {},
   "outputs": [
    {
     "name": "stdout",
     "output_type": "stream",
     "text": [
      "1 0 0 0 0 \n",
      "0 0 1 0 0 \n",
      "0 0 0 0 1 \n",
      "0 1 0 0 0 \n",
      "0 0 0 1 0 \n",
      "\n",
      "1 0 0 0 0 \n",
      "0 0 0 1 0 \n",
      "0 1 0 0 0 \n",
      "0 0 0 0 1 \n",
      "0 0 1 0 0 \n",
      "\n",
      "0 1 0 0 0 \n",
      "0 0 0 1 0 \n",
      "1 0 0 0 0 \n",
      "0 0 1 0 0 \n",
      "0 0 0 0 1 \n",
      "\n",
      "0 1 0 0 0 \n",
      "0 0 0 0 1 \n",
      "0 0 1 0 0 \n",
      "1 0 0 0 0 \n",
      "0 0 0 1 0 \n",
      "\n",
      "0 0 1 0 0 \n",
      "1 0 0 0 0 \n",
      "0 0 0 1 0 \n",
      "0 1 0 0 0 \n",
      "0 0 0 0 1 \n",
      "\n",
      "0 0 1 0 0 \n",
      "0 0 0 0 1 \n",
      "0 1 0 0 0 \n",
      "0 0 0 1 0 \n",
      "1 0 0 0 0 \n",
      "\n",
      "0 0 0 1 0 \n",
      "1 0 0 0 0 \n",
      "0 0 1 0 0 \n",
      "0 0 0 0 1 \n",
      "0 1 0 0 0 \n",
      "\n",
      "0 0 0 1 0 \n",
      "0 1 0 0 0 \n",
      "0 0 0 0 1 \n",
      "0 0 1 0 0 \n",
      "1 0 0 0 0 \n",
      "\n",
      "0 0 0 0 1 \n",
      "0 1 0 0 0 \n",
      "0 0 0 1 0 \n",
      "1 0 0 0 0 \n",
      "0 0 1 0 0 \n",
      "\n",
      "0 0 0 0 1 \n",
      "0 0 1 0 0 \n",
      "1 0 0 0 0 \n",
      "0 0 0 1 0 \n",
      "0 1 0 0 0 \n",
      "\n"
     ]
    },
    {
     "data": {
      "text/plain": [
       "[[0, 2, 4, 1, 3],\n",
       " [0, 3, 1, 4, 2],\n",
       " [1, 3, 0, 2, 4],\n",
       " [1, 4, 2, 0, 3],\n",
       " [2, 0, 3, 1, 4],\n",
       " [2, 4, 1, 3, 0],\n",
       " [3, 0, 2, 4, 1],\n",
       " [3, 1, 4, 2, 0],\n",
       " [4, 1, 3, 0, 2],\n",
       " [4, 2, 0, 3, 1]]"
      ]
     },
     "execution_count": 51,
     "metadata": {},
     "output_type": "execute_result"
    }
   ],
   "source": [
    "n_queen(5)"
   ]
  }
 ],
 "metadata": {
  "kernelspec": {
   "display_name": "Pytorch",
   "language": "python",
   "name": "pytorch"
  },
  "language_info": {
   "codemirror_mode": {
    "name": "ipython",
    "version": 3
   },
   "file_extension": ".py",
   "mimetype": "text/x-python",
   "name": "python",
   "nbconvert_exporter": "python",
   "pygments_lexer": "ipython3",
   "version": "3.7.9"
  }
 },
 "nbformat": 4,
 "nbformat_minor": 5
}
