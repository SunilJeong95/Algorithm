{
 "cells": [
  {
   "cell_type": "markdown",
   "metadata": {},
   "source": [
    "# Insertion Sort\n",
    "\n",
    "    1. at first, key number is second index.\n",
    "    2. compare key number with other index which is less than key number index. \n",
    "    3. if key number is smaller than other index, then swap. (insert)\n",
    "    - Time complexity: O(n^2)"
   ]
  },
  {
   "cell_type": "code",
   "execution_count": 1,
   "metadata": {},
   "outputs": [],
   "source": [
    "def insertion_sort(arr):\n",
    "    \n",
    "    for i in range(1, len(arr)): # 1\n",
    "        key = arr[i]\n",
    "        for j in range(i-1, -1, -1):\n",
    "            if arr[j] > key: # 2\n",
    "                arr[j+1], arr[j] = arr[j], arr[j+1] # 3\n",
    "            else:\n",
    "                break"
   ]
  },
  {
   "cell_type": "code",
   "execution_count": 2,
   "metadata": {},
   "outputs": [
    {
     "name": "stdout",
     "output_type": "stream",
     "text": [
      "------------------------- Before Insertion Sort -------------------------\n",
      "[61, 7, 97, 29, 62, 27, 9, 50, 13, 12, 59, 87, 31, 35, 68, 74, 44, 82, 8, 37]\n",
      "\n",
      " ------------------------- After Insertion Sort -------------------------\n",
      "[7, 8, 9, 12, 13, 27, 29, 31, 35, 37, 44, 50, 59, 61, 62, 68, 74, 82, 87, 97]\n"
     ]
    }
   ],
   "source": [
    "import random\n",
    "\n",
    "if __name__ == \"__main__\":\n",
    "    arr = random.sample(range(100), 20)\n",
    "\n",
    "    print('-'*25,'Before Insertion Sort','-'*25)\n",
    "    print(arr)\n",
    "\n",
    "    print('\\n','-'*25,'After Insertion Sort','-'*25)\n",
    "    insertion_sort(arr)\n",
    "    print(arr)"
   ]
  }
 ],
 "metadata": {
  "kernelspec": {
   "display_name": "Pytorch",
   "language": "python",
   "name": "pytorch"
  },
  "language_info": {
   "codemirror_mode": {
    "name": "ipython",
    "version": 3
   },
   "file_extension": ".py",
   "mimetype": "text/x-python",
   "name": "python",
   "nbconvert_exporter": "python",
   "pygments_lexer": "ipython3",
   "version": "3.7.9"
  }
 },
 "nbformat": 4,
 "nbformat_minor": 5
}
