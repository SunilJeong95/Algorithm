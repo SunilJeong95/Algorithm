{
 "cells": [
  {
   "cell_type": "markdown",
   "metadata": {},
   "source": [
    "# Binary_search\n",
    "    - Time complexity: O(logn)"
   ]
  },
  {
   "cell_type": "code",
   "execution_count": 29,
   "metadata": {},
   "outputs": [],
   "source": [
    "def binary_search(arr, target):\n",
    "    if len(arr) == 1 and arr[0] == target:\n",
    "        return True\n",
    "    elif len(arr) == 1:\n",
    "        print(\"No data!\")\n",
    "        return False\n",
    "    \n",
    "    mid = int(len(arr)/2)\n",
    "    \n",
    "    if arr[mid] == target:\n",
    "        return True\n",
    "    else:\n",
    "        if arr[mid] > target:\n",
    "            return binary_search(arr[:mid], target)\n",
    "        elif arr[mid] < target:\n",
    "            return binary_search(arr[mid:], target)"
   ]
  },
  {
   "cell_type": "code",
   "execution_count": 15,
   "metadata": {},
   "outputs": [
    {
     "name": "stdout",
     "output_type": "stream",
     "text": [
      "[36, 83, 104, 118, 157, 175, 357, 374, 407, 484, 595, 597, 701, 737, 871, 876, 884, 902, 905, 911]\n"
     ]
    }
   ],
   "source": [
    "import random \n",
    "\n",
    "arr = random.sample(range(1000), 20)\n",
    "arr.sort()\n",
    "print(arr)"
   ]
  },
  {
   "cell_type": "code",
   "execution_count": 31,
   "metadata": {},
   "outputs": [
    {
     "data": {
      "text/plain": [
       "True"
      ]
     },
     "execution_count": 31,
     "metadata": {},
     "output_type": "execute_result"
    }
   ],
   "source": [
    "binary_search(arr, 83)"
   ]
  }
 ],
 "metadata": {
  "kernelspec": {
   "display_name": "Pytorch",
   "language": "python",
   "name": "pytorch"
  },
  "language_info": {
   "codemirror_mode": {
    "name": "ipython",
    "version": 3
   },
   "file_extension": ".py",
   "mimetype": "text/x-python",
   "name": "python",
   "nbconvert_exporter": "python",
   "pygments_lexer": "ipython3",
   "version": "3.7.9"
  }
 },
 "nbformat": 4,
 "nbformat_minor": 2
}
