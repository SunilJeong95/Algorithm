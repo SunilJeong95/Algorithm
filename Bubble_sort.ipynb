{
 "cells": [
  {
   "cell_type": "markdown",
   "metadata": {},
   "source": [
    "# Bubble Sort\n",
    "\n",
    "    - Time complexity: O(n^2)"
   ]
  },
  {
   "cell_type": "code",
   "execution_count": 27,
   "metadata": {},
   "outputs": [],
   "source": [
    "#using recursion\n",
    "def bubble_sort1(arr, index=None):\n",
    "    if index == 0:\n",
    "        return\n",
    "    \n",
    "    if index==None:\n",
    "        index = len(arr) - 1\n",
    "    \n",
    "    for i in range(index):\n",
    "        if arr[i] > arr[i+1]:\n",
    "            arr[i], arr[i+1] = arr[i+1], arr[i]\n",
    "    bubble_sort1(arr, index-1)\n",
    "    \n",
    "#using iteration\n",
    "def bubble_sort2(arr):\n",
    "    index = len(arr) - 1\n",
    "    for i in range(index, 0, -1):\n",
    "        for j in range(i):           \n",
    "            if arr[j] > arr[j+1]:\n",
    "                arr[j], arr[j+1] = arr[j+1], arr[j]\n"
   ]
  },
  {
   "cell_type": "code",
   "execution_count": 31,
   "metadata": {},
   "outputs": [
    {
     "name": "stdout",
     "output_type": "stream",
     "text": [
      "------------------------- Before Bubble Sorting -------------------------\n",
      "[24, 10, 31, 85, 12, 71, 8, 62, 52, 13, 46, 25, 59, 45, 34, 89, 65, 95, 84, 30] \n",
      "\n",
      "------------------------- After Bubble Sorting1 -------------------------\n",
      "[8, 10, 12, 13, 24, 25, 30, 31, 34, 45, 46, 52, 59, 62, 65, 71, 84, 85, 89, 95] \n",
      "\n",
      "------------------------- After Bubble Sorting2 -------------------------\n",
      "[8, 10, 12, 13, 24, 25, 30, 31, 34, 45, 46, 52, 59, 62, 65, 71, 84, 85, 89, 95] \n",
      "\n"
     ]
    }
   ],
   "source": [
    "import random\n",
    "\n",
    "rand = random.sample(range(100), 20)\n",
    "\n",
    "if __name__ == \"__main__\":\n",
    "    print('-'*25,'Before Bubble Sorting','-'*25)\n",
    "    print(rand, '\\n')\n",
    "\n",
    "    bubble_sort1(rand)\n",
    "    print('-'*25,'After Bubble Sorting1','-'*25)\n",
    "    print(rand, '\\n')\n",
    "\n",
    "    bubble_sort2(rand)\n",
    "    print('-'*25,'After Bubble Sorting2','-'*25)\n",
    "    print(rand, '\\n')"
   ]
  }
 ],
 "metadata": {
  "kernelspec": {
   "display_name": "Pytorch",
   "language": "python",
   "name": "pytorch"
  },
  "language_info": {
   "codemirror_mode": {
    "name": "ipython",
    "version": 3
   },
   "file_extension": ".py",
   "mimetype": "text/x-python",
   "name": "python",
   "nbconvert_exporter": "python",
   "pygments_lexer": "ipython3",
   "version": "3.7.9"
  }
 },
 "nbformat": 4,
 "nbformat_minor": 5
}
