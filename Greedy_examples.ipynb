{
 "cells": [
  {
   "cell_type": "code",
   "execution_count": 12,
   "metadata": {},
   "outputs": [],
   "source": [
    "# Example 1 - minium coin problem\n",
    "# There are 500, 100, 50, 1 coins.\n",
    "# Please pay in the smallest number of coins.\n",
    "\n",
    "def min_coin(payment):\n",
    "    coins = [500, 1, 50, 100]\n",
    "    coins.sort(reverse=True)\n",
    "    num_coins = 0\n",
    "    detail = []\n",
    "    for coin in coins:\n",
    "        num_coin = payment//coin\n",
    "        num_coins += num_coin\n",
    "        payment -= coin * num_coin\n",
    "        info = (coin, num_coin)\n",
    "        detail.append(info)\n",
    "    \n",
    "    detail.append(num_coins)\n",
    "    return detail"
   ]
  },
  {
   "cell_type": "code",
   "execution_count": 13,
   "metadata": {},
   "outputs": [
    {
     "data": {
      "text/plain": [
       "{1493: [(500, 2), (100, 4), (50, 1), (1, 43), 50],\n",
       " 31077: [(500, 62), (100, 0), (50, 1), (1, 27), 90],\n",
       " 5600: [(500, 11), (100, 1), (50, 0), (1, 0), 12],\n",
       " 10763: [(500, 21), (100, 2), (50, 1), (1, 13), 37],\n",
       " 38892: [(500, 77), (100, 3), (50, 1), (1, 42), 123],\n",
       " 7245: [(500, 14), (100, 2), (50, 0), (1, 45), 61],\n",
       " 42607: [(500, 85), (100, 1), (50, 0), (1, 7), 93],\n",
       " 41551: [(500, 83), (100, 0), (50, 1), (1, 1), 85],\n",
       " 49041: [(500, 98), (100, 0), (50, 0), (1, 41), 139],\n",
       " 35983: [(500, 71), (100, 4), (50, 1), (1, 33), 109]}"
      ]
     },
     "execution_count": 13,
     "metadata": {},
     "output_type": "execute_result"
    }
   ],
   "source": [
    "import random\n",
    "\n",
    "problem = random.sample(range(1000, 50000), 10)\n",
    "\n",
    "answers = dict()\n",
    "for data in problem:\n",
    "    answers[data] = min_coin(data) \n",
    "    \n",
    "answers"
   ]
  },
  {
   "cell_type": "code",
   "execution_count": 15,
   "metadata": {},
   "outputs": [],
   "source": [
    "# Example 2 - Fractional Knapsack problem\n",
    "\n",
    "def knapsack(capacity, data):\n",
    "    total_value = 0\n",
    "    detail = []\n",
    "    \n",
    "    for d in data:\n",
    "        if capacity >= d[0]:\n",
    "            capacity -= d[0]\n",
    "            total_value += d[1]\n",
    "            detail.append((d[0], d[1], 1))\n",
    "        else:\n",
    "            fraction = capacity/d[0]\n",
    "            total_value += fraction*d[1]\n",
    "            detail.append((d[0], d[1], fraction))\n",
    "            break\n",
    "            \n",
    "    return total_value, detail"
   ]
  },
  {
   "cell_type": "code",
   "execution_count": 17,
   "metadata": {},
   "outputs": [
    {
     "data": {
      "text/plain": [
       "(26.666666666666664,\n",
       " [(5, 8, 1), (2, 3, 1), (3, 4, 1), (4, 5, 1), (9, 10, 0.6666666666666666)])"
      ]
     },
     "execution_count": 17,
     "metadata": {},
     "output_type": "execute_result"
    }
   ],
   "source": [
    "data = [(2, 3), (3, 4), (4, 5), (5, 8), (9, 10)]\n",
    "\n",
    "data = sorted(data, reverse=True, key=lambda x:x[1]/x[0])\n",
    "knapsack(20, data)"
   ]
  }
 ],
 "metadata": {
  "kernelspec": {
   "display_name": "Pytorch",
   "language": "python",
   "name": "pytorch"
  },
  "language_info": {
   "codemirror_mode": {
    "name": "ipython",
    "version": 3
   },
   "file_extension": ".py",
   "mimetype": "text/x-python",
   "name": "python",
   "nbconvert_exporter": "python",
   "pygments_lexer": "ipython3",
   "version": "3.7.9"
  }
 },
 "nbformat": 4,
 "nbformat_minor": 2
}
