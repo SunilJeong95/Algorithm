{
 "cells": [
  {
   "cell_type": "markdown",
   "metadata": {},
   "source": [
    "# Quick Sort\n",
    "    - Average Time complexity: O(nlogn)"
   ]
  },
  {
   "cell_type": "code",
   "execution_count": 1,
   "metadata": {},
   "outputs": [],
   "source": [
    "def partition(arr, start, end):\n",
    "    \n",
    "    i = start+1\n",
    "    j = end\n",
    "    pivot = arr[start]\n",
    "    \n",
    "    while i < j:\n",
    "        while i<=end and arr[i] < pivot :\n",
    "            i += 1\n",
    "            \n",
    "        while j>=0 and arr[j] > pivot :\n",
    "            j -= 1\n",
    "            \n",
    "        if i < j:\n",
    "            arr[i], arr[j] = arr[j], arr[i]\n",
    "    \n",
    "    arr[start], arr[i-1] = arr[i-1], arr[start]  \n",
    "    \n",
    "    return i-1\n",
    "\n",
    "def quick_sort_c(arr, start, end):\n",
    "    \n",
    "    if start >= end:\n",
    "        return\n",
    "    \n",
    "    p = partition(arr, start, end)\n",
    "\n",
    "    quick_sort_c(arr, start, p-1)\n",
    "    quick_sort_c(arr, p+1, end)\n",
    "\n",
    "    "
   ]
  },
  {
   "cell_type": "code",
   "execution_count": 2,
   "metadata": {},
   "outputs": [],
   "source": [
    "def quick_sort(arr):   \n",
    "    if len(arr)<=1:\n",
    "        return arr\n",
    "    \n",
    "    pivot = arr[0]\n",
    "    \n",
    "    left = [item for item in arr[1:] if pivot > item]\n",
    "    right = [item for item in arr[1:] if pivot < item]\n",
    "             \n",
    "    return quick_sort(left) + [pivot] + quick_sort(right)"
   ]
  },
  {
   "cell_type": "code",
   "execution_count": 3,
   "metadata": {},
   "outputs": [
    {
     "name": "stdout",
     "output_type": "stream",
     "text": [
      "-------------------------Before Quick sorting-------------------------\n",
      "[3, 69, 13, 14, 68, 92, 42, 72, 12, 67, 36, 2, 8, 37, 73, 97, 64, 51, 61, 84]\n",
      "\n",
      "-------------------------After Quick sorting-------------------------\n",
      "[2, 3, 8, 12, 13, 14, 36, 37, 42, 51, 61, 64, 67, 68, 69, 72, 73, 84, 92, 97]\n",
      "\n",
      "-------------------------After Quick sorting In C-------------------------\n",
      "[2, 3, 12, 8, 13, 14, 36, 42, 37, 51, 61, 64, 67, 68, 69, 72, 73, 84, 92, 97]\n"
     ]
    }
   ],
   "source": [
    "import random\n",
    "\n",
    "\n",
    "if __name__ == \"__main__\":\n",
    "    arr = random.sample(range(100), 20)\n",
    "    arr_c = arr\n",
    "\n",
    "    print('-'*25+'Before Quick sorting'+'-'*25)\n",
    "    print(arr)\n",
    "\n",
    "    print('\\n'+'-'*25+'After Quick sorting'+'-'*25)\n",
    "    print(quick_sort(arr))\n",
    "\n",
    "\n",
    "    print('\\n'+'-'*25+'After Quick sorting In C'+'-'*25)\n",
    "    quick_sort_c(arr_c, 0, len(arr_c)-1)\n",
    "    print(arr_c)"
   ]
  }
 ],
 "metadata": {
  "kernelspec": {
   "display_name": "Pytorch",
   "language": "python",
   "name": "pytorch"
  },
  "language_info": {
   "codemirror_mode": {
    "name": "ipython",
    "version": 3
   },
   "file_extension": ".py",
   "mimetype": "text/x-python",
   "name": "python",
   "nbconvert_exporter": "python",
   "pygments_lexer": "ipython3",
   "version": "3.7.9"
  }
 },
 "nbformat": 4,
 "nbformat_minor": 2
}
