{
 "cells": [
  {
   "cell_type": "code",
   "execution_count": 31,
   "metadata": {},
   "outputs": [],
   "source": [
    "from ipynb.fs.full.Merge_sort import merge_sort \n",
    "from ipynb.fs.full.Bubble_sort import bubble_sort2\n",
    "from ipynb.fs.full.Selection_sort import selection_sort\n",
    "from ipynb.fs.full.Insertion_sort import insertion_sort \n",
    "from ipynb.fs.full.Quick_sort import quick_sort\n",
    "import matplotlib.pyplot as plt\n",
    "import time\n",
    "import random\n",
    "import numpy as np\n",
    "from tqdm import tqdm\n",
    "\n",
    "\n",
    "def merge_check(n):\n",
    "    arr = random.sample(range(10**10), n)\n",
    "    start = time.time()\n",
    "    \n",
    "    merge_sort(arr)\n",
    "    \n",
    "    return time.time()-start\n",
    "\n",
    "def bubble_check(n):\n",
    "    arr = random.sample(range(10**10), n)\n",
    "    start = time.time()\n",
    "    \n",
    "    bubble_sort2(arr)\n",
    "    \n",
    "    return time.time()-start\n",
    "\n",
    "def selection_check(n):\n",
    "    arr = random.sample(range(10**10), n)\n",
    "    start = time.time()\n",
    "    \n",
    "    selection_sort(arr)\n",
    "    \n",
    "    return time.time()-start\n",
    "\n",
    "def insertion_check(n):\n",
    "    arr = random.sample(range(10**10), n)\n",
    "    start = time.time()\n",
    "    \n",
    "    insertion_sort(arr)\n",
    "    \n",
    "    return time.time()-start\n",
    "\n",
    "def quick_check(n):\n",
    "    arr = random.sample(range(10**10), n)\n",
    "    start = time.time()\n",
    "    \n",
    "    quick_sort(arr)\n",
    "    \n",
    "    return time.time()-start"
   ]
  },
  {
   "cell_type": "code",
   "execution_count": 55,
   "metadata": {},
   "outputs": [],
   "source": [
    "merge_elapsed_times = []\n",
    "bubble_elapsed_times = []\n",
    "selection_elapsed_times = []\n",
    "insertion_elapsed_times = []\n",
    "quick_elapsed_times = []\n",
    "\n",
    "N = [10**3, 2*10**3, 3*10**3, 4*10**3, 5*10**3, 10**4, 2*10**4, 3*10**4, 4*10**4, 5*10**4, 10**5]"
   ]
  },
  {
   "cell_type": "code",
   "execution_count": 56,
   "metadata": {},
   "outputs": [
    {
     "name": "stderr",
     "output_type": "stream",
     "text": [
      "100%|██████████| 11/11 [29:19<00:00, 160.00s/it]\n"
     ]
    }
   ],
   "source": [
    "with tqdm(total=len(N)) as pbar:\n",
    "    for n in N:\n",
    "        merge_result = merge_check(n)\n",
    "        merge_elapsed_times.append(merge_result)\n",
    "    \n",
    "        bubble_result = bubble_check(n)\n",
    "        bubble_elapsed_times.append(bubble_result)\n",
    "    \n",
    "        selection_result = selection_check(n)\n",
    "        selection_elapsed_times.append(selection_result)\n",
    "    \n",
    "        insertion_result = merge_check(n)\n",
    "        insertion_elapsed_times.append(insertion_result)\n",
    "    \n",
    "        quick_result = quick_check(n)\n",
    "        quick_elapsed_times.append(quick_result)\n",
    "        \n",
    "        pbar.update()"
   ]
  },
  {
   "cell_type": "code",
   "execution_count": 61,
   "metadata": {},
   "outputs": [
    {
     "data": {
      "image/png": "[encoded data removed]",
      "text/plain": [
       "<Figure size 432x288 with 1 Axes>"
      ]
     },
     "metadata": {
      "needs_background": "light"
     },
     "output_type": "display_data"
    }
   ],
   "source": [
    "plt.plot(N, merge_elapsed_times, 'rs', label=\"merge\")\n",
    "plt.plot(N, bubble_elapsed_times, 'bs', label=\"bubble\")\n",
    "plt.plot(N, selection_elapsed_times, 'g^', label=\"selection\")\n",
    "plt.plot(N, insertion_elapsed_times, 'y*', label=\"insertion\")\n",
    "plt.plot(N, quick_elapsed_times, 'p', label=\"quick\")\n",
    "plt.legend()\n",
    "plt.ylim(0,2)\n",
    "plt.show()"
   ]
  }
 ],
 "metadata": {
  "kernelspec": {
   "display_name": "Pytorch",
   "language": "python",
   "name": "pytorch"
  },
  "language_info": {
   "codemirror_mode": {
    "name": "ipython",
    "version": 3
   },
   "file_extension": ".py",
   "mimetype": "text/x-python",
   "name": "python",
   "nbconvert_exporter": "python",
   "pygments_lexer": "ipython3",
   "version": "3.7.9"
  }
 },
 "nbformat": 4,
 "nbformat_minor": 2
}
