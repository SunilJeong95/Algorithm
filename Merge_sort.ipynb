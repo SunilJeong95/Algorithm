{
 "cells": [
  {
   "cell_type": "markdown",
   "metadata": {},
   "source": [
    "# Merge Sort\n",
    "\n",
    "    - "
   ]
  },
  {
   "cell_type": "code",
   "execution_count": 33,
   "metadata": {},
   "outputs": [],
   "source": [
    "def merge(left, right):\n",
    "    \n",
    "    merged = []\n",
    "    r_point, l_point = 0, 0\n",
    "    \n",
    "    while r_point < len(right) and l_point < len(left):\n",
    "        \n",
    "        if right[r_point] >= left[l_point]:\n",
    "            merged.append(left[l_point])\n",
    "            l_point += 1\n",
    "        else:\n",
    "            merged.append(right[r_point])\n",
    "            r_point += 1\n",
    "            \n",
    "    while r_point < len(right):\n",
    "        merged.append(right[r_point])\n",
    "        r_point += 1\n",
    "    \n",
    "    while l_point < len(left):\n",
    "        merged.append(left[l_point])\n",
    "        l_point += 1\n",
    "        \n",
    "        \n",
    "    return merged\n",
    "        \n",
    "def split(arr):\n",
    "    \n",
    "    if len(arr) <= 1:\n",
    "        return arr\n",
    "    \n",
    "    medium = int(len(arr)/2)\n",
    "    left = arr[:medium]\n",
    "    right = arr[medium:]\n",
    "    \n",
    "    return merge(split(left), split(right))\n",
    "    \n",
    "def merge_sort(arr):\n",
    "    \n",
    "    split(arr)"
   ]
  },
  {
   "cell_type": "code",
   "execution_count": 34,
   "metadata": {},
   "outputs": [
    {
     "data": {
      "text/plain": [
       "[6, 12, 15, 23, 30, 44, 45, 58, 60, 61, 62, 78, 83, 85, 87, 89, 90, 91, 96, 99]"
      ]
     },
     "execution_count": 34,
     "metadata": {},
     "output_type": "execute_result"
    }
   ],
   "source": [
    "import random \n",
    "\n",
    "if __name__ == \"__main__\":\n",
    "    arr = random.sample(range(100), 20)\n",
    "\n",
    "    merge_sort(arr)"
   ]
  }
 ],
 "metadata": {
  "kernelspec": {
   "display_name": "Pytorch",
   "language": "python",
   "name": "pytorch"
  },
  "language_info": {
   "codemirror_mode": {
    "name": "ipython",
    "version": 3
   },
   "file_extension": ".py",
   "mimetype": "text/x-python",
   "name": "python",
   "nbconvert_exporter": "python",
   "pygments_lexer": "ipython3",
   "version": "3.7.9"
  }
 },
 "nbformat": 4,
 "nbformat_minor": 5
}
