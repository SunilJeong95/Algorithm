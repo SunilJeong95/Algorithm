{
 "cells": [
  {
   "cell_type": "code",
   "execution_count": 4,
   "metadata": {},
   "outputs": [],
   "source": [
    "def bfs(graph, start):\n",
    "    visited = []\n",
    "    non_visit = []\n",
    "    \n",
    "    non_visit.append(start)\n",
    "    \n",
    "    while non_visit:\n",
    "        node = non_visit.pop(0)\n",
    "        \n",
    "        if node not in visited:\n",
    "            visited.append(node)\n",
    "            non_visit.extend(graph[node])\n",
    "            \n",
    "    return visited"
   ]
  },
  {
   "cell_type": "code",
   "execution_count": 5,
   "metadata": {},
   "outputs": [],
   "source": [
    "graph = dict()\n",
    "\n",
    "graph[\"A\"] = [\"B\", \"C\"]\n",
    "graph[\"B\"] = [\"A\", \"D\", \"E\", \"F\"]\n",
    "graph[\"C\"] = [\"A\", \"G\"]\n",
    "graph[\"D\"] = [\"B\", \"E\", \"H\"]\n",
    "graph[\"E\"] = [\"B\", \"D\", \"H\"]\n",
    "graph[\"F\"] = [\"B\", \"H\", \"G\"]\n",
    "graph[\"G\"] = [\"C\", \"F\", \"I\"]\n",
    "graph[\"H\"] = [\"D\", \"E\", \"F\", \"I\"]\n",
    "graph[\"I\"] = [\"G\", \"H\"]"
   ]
  },
  {
   "cell_type": "markdown",
   "metadata": {},
   "source": [
    "<div>\n",
    "<img src=\"./images/graph1.png\" width=\"300\"/>\n",
    "</div>"
   ]
  },
  {
   "cell_type": "code",
   "execution_count": 6,
   "metadata": {},
   "outputs": [
    {
     "data": {
      "text/plain": [
       "['A', 'B', 'C', 'D', 'E', 'F', 'G', 'H', 'I']"
      ]
     },
     "execution_count": 6,
     "metadata": {},
     "output_type": "execute_result"
    }
   ],
   "source": [
    "bfs(graph, \"A\")"
   ]
  }
 ],
 "metadata": {
  "kernelspec": {
   "display_name": "Pytorch",
   "language": "python",
   "name": "pytorch"
  },
  "language_info": {
   "codemirror_mode": {
    "name": "ipython",
    "version": 3
   },
   "file_extension": ".py",
   "mimetype": "text/x-python",
   "name": "python",
   "nbconvert_exporter": "python",
   "pygments_lexer": "ipython3",
   "version": "3.7.9"
  }
 },
 "nbformat": 4,
 "nbformat_minor": 2
}
