{
 "cells": [
  {
   "cell_type": "markdown",
   "metadata": {},
   "source": [
    "# Selection Sort\n",
    "\n",
    "    - select the smallest number in array\n",
    "    - Time complecity: O(n^2)"
   ]
  },
  {
   "cell_type": "code",
   "execution_count": 2,
   "metadata": {},
   "outputs": [],
   "source": [
    "def selection_sort(arr):\n",
    "    for index in range(len(arr)-1):\n",
    "        min_idx = index\n",
    "        for j in range(index+1, len(arr)):\n",
    "            if arr[min_idx] > arr[j]:\n",
    "                min_idx = j\n",
    "        if min_idx != index:\n",
    "            arr[min_idx], arr[index] = arr[index], arr[min_idx]"
   ]
  },
  {
   "cell_type": "code",
   "execution_count": 8,
   "metadata": {},
   "outputs": [
    {
     "name": "stdout",
     "output_type": "stream",
     "text": [
      "------------------------- Before Sorting -------------------------\n",
      "[89, 66, 80, 68, 30, 85, 45, 58, 17, 93, 72, 42, 36, 39, 91, 13, 49, 20, 46, 67] \n",
      "\n",
      "------------------------- After Sorting -------------------------\n",
      "[13, 17, 20, 30, 36, 39, 42, 45, 46, 49, 58, 66, 67, 68, 72, 80, 85, 89, 91, 93]\n"
     ]
    }
   ],
   "source": [
    "import random\n",
    "\n",
    "\n",
    "if __name__ == \"__main__\":\n",
    "    arr = random.sample(range(100), 20)\n",
    "    print('-'*25,'Before Sorting','-'*25)\n",
    "    print(arr,'\\n')\n",
    "\n",
    "    print('-'*25,'After Sorting','-'*25)\n",
    "    selection_sort(arr)\n",
    "    print(arr)"
   ]
  }
 ],
 "metadata": {
  "kernelspec": {
   "display_name": "Pytorch",
   "language": "python",
   "name": "pytorch"
  },
  "language_info": {
   "codemirror_mode": {
    "name": "ipython",
    "version": 3
   },
   "file_extension": ".py",
   "mimetype": "text/x-python",
   "name": "python",
   "nbconvert_exporter": "python",
   "pygments_lexer": "ipython3",
   "version": "3.7.9"
  }
 },
 "nbformat": 4,
 "nbformat_minor": 5
}
